{
 "cells": [
  {
   "cell_type": "code",
   "execution_count": null,
   "metadata": {},
   "outputs": [],
   "source": [
    "from datetime import datetime, timedelta\n",
    "# Databricks notebook source\n",
    "from utils.authentication import authenticate, get_spotify_auth_vars\n",
    "\n",
    "\n",
    "# COMMAND ----------\n",
    "\n",
    "CLIENT_ID, CLIENT_SECRET, SCOPE, USERNAME = get_spotify_auth_vars( return_username=True)\n",
    "# Add playlist creation to standard scope and authenticate\n",
    "SCOPE = SCOPE + \" playlist-modify-private playlist-read-private\"\n",
    "spotify = authenticate(client_id = CLIENT_ID, client_secret= CLIENT_SECRET, scope= SCOPE    \n",
    "    redirect_uri = \"http://localhost:8888\",\n",
    "    cache_path =  \"./.cache\")\n",
    "\n",
    "# COMMAND ----------\n",
    "\n",
    "# Get last month\n",
    "last_month = (datetime.now() - timedelta(days=30)).month\n",
    "current_year = (datetime.now() - timedelta(days=30)).year\n",
    "\n",
    "\n"
   ]
  },
  {
   "cell_type": "code",
   "execution_count": null,
   "metadata": {},
   "outputs": [],
   "source": [
    "\n",
    "# create playlist\n",
    "create_playlist_response = spotify.user_playlist_create(\n",
    "    user=USERNAME,\n",
    "    name=f\"testlocal Flashback {current_year}-{last_month}\",\n",
    "    public=False,\n",
    "    collaborative=False,\n",
    "    description=\"\"\"Monthly flashback playlist based on tracks \n",
    "    from track history db that have been listened to at least 3 times.\"\"\",\n",
    ")\n",
    "# retrieve playlist id\n",
    "playlist_uri = create_playlist_response.get(\"id\")\n"
   ]
  }
 ],
 "metadata": {
  "kernelspec": {
   "display_name": "spotify_etl-PoKrizuO",
   "language": "python",
   "name": "python3"
  },
  "language_info": {
   "name": "python",
   "version": "3.12.3"
  }
 },
 "nbformat": 4,
 "nbformat_minor": 2
}
