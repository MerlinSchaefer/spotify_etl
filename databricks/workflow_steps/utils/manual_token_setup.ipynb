{
 "cells": [
  {
   "cell_type": "markdown",
   "metadata": {},
   "source": [
    "This manual setup + databricks fs cp is necessary to get the auth working within databricks workflows. Spotipy currently only has interactive auth methods that grant the full API scope, this interactivity is not possible from within databricks.\n"
   ]
  },
  {
   "cell_type": "code",
   "execution_count": 13,
   "metadata": {},
   "outputs": [
    {
     "data": {
      "text/plain": [
       "True"
      ]
     },
     "execution_count": 13,
     "metadata": {},
     "output_type": "execute_result"
    }
   ],
   "source": [
    "import os\n",
    "from spotipy.oauth2 import SpotifyOAuth\n",
    "import spotipy\n",
    "from dotenv import load_dotenv\n",
    "\n",
    "\n",
    "env_path = \"../../.env\"\n",
    "\n",
    "load_dotenv(dotenv_path=env_path, override=True)"
   ]
  },
  {
   "cell_type": "code",
   "execution_count": 14,
   "metadata": {},
   "outputs": [],
   "source": [
    "# Read Spotify auth credentials \n",
    "client_id = os.getenv('SPOTIPY_CLIENT_ID')\n",
    "client_secret = os.getenv('SPOTIPY_CLIENT_SECRET')\n",
    "redirect_uri = \"http://localhost:8888\"\n",
    "scope = \"user-read-recently-played user-read-currently-playing user-read-playback-state user-read-private\"\n"
   ]
  },
  {
   "cell_type": "code",
   "execution_count": 18,
   "metadata": {},
   "outputs": [
    {
     "name": "stdout",
     "output_type": "stream",
     "text": [
      "None\n"
     ]
    }
   ],
   "source": [
    "cache_path = os.path.join(os.getcwd(), \".cache\")  # Current working directory\n",
    "# Authenticate and save the token in a .cache file\n",
    "auth_manager = SpotifyOAuth(\n",
    "    client_id=client_id,\n",
    "    client_secret=client_secret,\n",
    "    redirect_uri=redirect_uri,\n",
    "    scope=scope,\n",
    "    cache_path=cache_path\n",
    ")\n",
    "\n",
    "spotify = spotipy.Spotify(auth_manager=auth_manager)\n",
    "\n",
    "# Test the authentication by printing user's current playback\n",
    "current_playback = spotify.current_playback()\n",
    "print(current_playback)"
   ]
  }
 ],
 "metadata": {
  "kernelspec": {
   "display_name": "spotify_insights-XfkAYRop",
   "language": "python",
   "name": "python3"
  },
  "language_info": {
   "codemirror_mode": {
    "name": "ipython",
    "version": 3
   },
   "file_extension": ".py",
   "mimetype": "text/x-python",
   "name": "python",
   "nbconvert_exporter": "python",
   "pygments_lexer": "ipython3",
   "version": "3.9.12"
  }
 },
 "nbformat": 4,
 "nbformat_minor": 2
}
